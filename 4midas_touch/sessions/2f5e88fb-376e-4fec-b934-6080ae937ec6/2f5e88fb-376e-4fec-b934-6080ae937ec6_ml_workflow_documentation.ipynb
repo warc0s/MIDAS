{
 "cells": [
  {
   "cell_type": "markdown",
   "metadata": {},
   "source": [
    "# Documentaci\u00f3n del Flujo de Trabajo de Machine Learning",
    "",
    "Este notebook documenta paso a paso el proceso de an\u00e1lisis de datos, preprocesamiento, ingenier\u00eda de caracter\u00edsticas y entrenamiento de modelo realizado por el componente Midas Touch (AICortex).",
    "",
    "Cada secci\u00f3n incluye una explicaci\u00f3n detallada seguida del c\u00f3digo utilizado para realizar las operaciones descritas.",
    "",
    "**Fecha de generaci\u00f3n:** 2025-02-27 21:50:50",
    "",
    "---"
   ]
  },
  {
   "cell_type": "markdown",
   "metadata": {},
   "source": [
    "## Cambio de Etapa: DATA_LOADING",
    "",
    "('El workflow ha avanzado de la etapa **DATA_LOADING** a la etapa **DATA_LOADING**.\\n\\n', 'En esta etapa se cargan los datos desde el archivo fuente. Se realiza una lectura inicial para entender la estructura del dataset.')"
   ]
  },
  {
   "cell_type": "markdown",
   "metadata": {},
   "source": [
    "## Carga de Datos",
    "",
    "Se han cargado datos desde el archivo **sessions\\2f5e88fb-376e-4fec-b934-6080ae937ec6\\2f5e88fb-376e-4fec-b934-6080ae937ec6_dataset.csv**.",
    "",
    "- **Formato del archivo**: .csv",
    "- **Dimensiones**: 77 filas, 16 columnas",
    ""
   ]
  },
  {
   "cell_type": "code",
   "execution_count": 4,
   "metadata": {},
   "outputs": [],
   "source": [
    "# Vista previa de los datos",
    "                        name mfr type  calories  protein  fat  sodium  fiber  carbo  sugars  potass  vitamins  shelf  weight  cups     rating",
    "0                  100% Bran   N    C        70        4    1     130   10.0    5.0       6     280        25      3     1.0  0.33  68.402973",
    "1          100% Natural Bran   Q    C       120        3    5      15    2.0    8.0       8     135         0      3     1.0  1.00  33.983679",
    "2                   All-Bran   K    C        70        4    1     260    9.0    7.0       5     320        25      3     1.0  0.33  59.425505",
    "3  All-Bran with Extra Fiber   K    C        50        4    0     140   14.0    8.0       0     330        25      3     1.0  0.50  93.704912",
    "4             Almond Delight   R    C       110        2    2     200    1.0   14.0       8      -1        25      3     1.0  0.75  34.384843"
   ]
  },
  {
   "cell_type": "code",
   "execution_count": 5,
   "metadata": {},
   "outputs": [],
   "source": [
    "# Carga de datos",
    "import pandas as pd",
    "df = pd.read_csv('sessions\\2f5e88fb-376e-4fec-b934-6080ae937ec6\\2f5e88fb-376e-4fec-b934-6080ae937ec6_dataset.csv')",
    "df.head()"
   ]
  },
  {
   "cell_type": "markdown",
   "metadata": {},
   "source": [
    "## An\u00e1lisis Inicial del Dataset",
    "",
    "En esta etapa analizamos la estructura del dataset y sus caracter\u00edsticas principales."
   ]
  },
  {
   "cell_type": "code",
   "execution_count": 7,
   "metadata": {},
   "outputs": [],
   "source": [
    "# Vista previa de los datos",
    "                        name mfr type  calories  protein  fat  sodium  fiber  carbo  sugars  potass  vitamins  shelf  weight  cups     rating",
    "0                  100% Bran   N    C        70        4    1     130   10.0    5.0       6     280        25      3     1.0  0.33  68.402973",
    "1          100% Natural Bran   Q    C       120        3    5      15    2.0    8.0       8     135         0      3     1.0  1.00  33.983679",
    "2                   All-Bran   K    C        70        4    1     260    9.0    7.0       5     320        25      3     1.0  0.33  59.425505",
    "3  All-Bran with Extra Fiber   K    C        50        4    0     140   14.0    8.0       0     330        25      3     1.0  0.50  93.704912",
    "4             Almond Delight   R    C       110        2    2     200    1.0   14.0       8      -1        25      3     1.0  0.75  34.384843"
   ]
  },
  {
   "cell_type": "code",
   "execution_count": 8,
   "metadata": {},
   "outputs": [],
   "source": [
    "# Cargar y explorar el dataset",
    "import pandas as pd",
    "df = pd.read_csv('dataset.csv')",
    "df.head()"
   ]
  },
  {
   "cell_type": "markdown",
   "metadata": {},
   "source": [
    "## An\u00e1lisis de la Columna Objetivo",
    "",
    "La columna **calories** ha sido seleccionada como objetivo para un problema de **regression**.",
    "",
    "A continuaci\u00f3n se presentan sus estad\u00edsticas b\u00e1sicas:",
    "",
    "- count: 77.0",
    "- mean: 106.88311688311688",
    "- std: 19.484119056820845",
    "- min: 50.0",
    "- 25%: 100.0",
    "- 50%: 110.0",
    "- 75%: 110.0",
    "- max: 160.0"
   ]
  },
  {
   "cell_type": "code",
   "execution_count": 10,
   "metadata": {},
   "outputs": [],
   "source": [
    "# An\u00e1lisis de la columna objetivo",
    "target = df['calories']",
    "target.describe()"
   ]
  },
  {
   "cell_type": "markdown",
   "metadata": {},
   "source": [
    "## Selecci\u00f3n de Columna Objetivo",
    "",
    "Se ha seleccionado **calories** como la columna objetivo para este proyecto de machine learning.",
    "",
    "Esta columna es la que intentaremos predecir con nuestro modelo."
   ]
  },
  {
   "cell_type": "code",
   "execution_count": 12,
   "metadata": {},
   "outputs": [],
   "source": [
    "# Establecer la columna objetivo",
    "target_column = 'calories'"
   ]
  },
  {
   "cell_type": "markdown",
   "metadata": {},
   "source": [
    "## Validaci\u00f3n del Dataset",
    "",
    "Se ha verificado la integridad del dataset para la columna objetivo 'calories'.",
    "",
    "- N\u00famero de filas: 77",
    "- Valores faltantes en objetivo: 0.0%",
    "- N\u00famero de valores \u00fanicos en objetivo: 11"
   ]
  },
  {
   "cell_type": "code",
   "execution_count": 14,
   "metadata": {},
   "outputs": [],
   "source": [
    "# Validaci\u00f3n del dataset",
    "print(f'N\u00famero de filas: {len(df)}')",
    "print(f'Valores faltantes en objetivo: {df[\"calories\"].isnull().mean():.1%}')",
    "print(f'Valores \u00fanicos en objetivo: {df[\"calories\"].nunique()}')"
   ]
  },
  {
   "cell_type": "markdown",
   "metadata": {},
   "source": [
    "## An\u00e1lisis Exploratorio de Datos",
    "",
    "Se ha realizado un an\u00e1lisis exploratorio b\u00e1sico del dataset:",
    "",
    "- **Dimensiones**: 77 filas, 16 columnas",
    "- **Columnas num\u00e9ricas**: 13",
    "- **Columnas categ\u00f3ricas**: 3",
    "",
    "### Valores faltantes:",
    "- No hay valores faltantes",
    "",
    ""
   ]
  },
  {
   "cell_type": "code",
   "execution_count": 16,
   "metadata": {},
   "outputs": [],
   "source": [
    "# An\u00e1lisis exploratorio de datos",
    "print(f'Dimensiones: {df.shape}')",
    "print('\\nTipos de datos:')",
    "print(df.dtypes)",
    "print('\\nResumen de valores faltantes:')",
    "print(df.isnull().sum())",
    "",
    "# Visualizar distribuci\u00f3n de variables num\u00e9ricas",
    "import matplotlib.pyplot as plt",
    "df.select_dtypes(include=np.number).hist(figsize=(15, 10))",
    "plt.tight_layout()",
    "plt.show()"
   ]
  },
  {
   "cell_type": "markdown",
   "metadata": {},
   "source": [
    "## Ingenier\u00eda de Caracter\u00edsticas",
    "",
    "### Transformaciones realizadas:"
   ]
  },
  {
   "cell_type": "code",
   "execution_count": 18,
   "metadata": {},
   "outputs": [],
   "source": [
    "# Vista previa de los datos",
    "                        name mfr type  calories  protein  fat  sodium  fiber  carbo  sugars  potass  vitamins  shelf  weight  cups     rating",
    "0                  100% Bran   N    C        70        4    1     130   10.0    5.0       6     280        25      3     1.0  0.33  68.402973",
    "1          100% Natural Bran   Q    C       120        3    5      15    2.0    8.0       8     135         0      3     1.0  1.00  33.983679",
    "2                   All-Bran   K    C        70        4    1     260    9.0    7.0       5     320        25      3     1.0  0.33  59.425505",
    "3  All-Bran with Extra Fiber   K    C        50        4    0     140   14.0    8.0       0     330        25      3     1.0  0.50  93.704912",
    "4             Almond Delight   R    C       110        2    2     200    1.0   14.0       8      -1        25      3     1.0  0.75  34.384843"
   ]
  },
  {
   "cell_type": "code",
   "execution_count": 19,
   "metadata": {},
   "outputs": [],
   "source": [
    "# Transformaciones adaptativas seg\u00fan el tipo de datos",
    "df_transformed = df.copy()",
    "target = 'calories'  # Columna objetivo"
   ]
  },
  {
   "cell_type": "markdown",
   "metadata": {},
   "source": [
    "## Construcci\u00f3n del Pipeline de Preprocesamiento",
    "",
    "Se ha construido un pipeline de preprocesamiento adaptado a los tipos de datos:",
    "",
    "- **Columnas num\u00e9ricas (12)**: Imputaci\u00f3n (mediana) + Escalado (StandardScaler)",
    "- **Columnas categ\u00f3ricas (3)**: Imputaci\u00f3n (moda) + OneHotEncoding"
   ]
  },
  {
   "cell_type": "code",
   "execution_count": 21,
   "metadata": {},
   "outputs": [],
   "source": [
    "# Construcci\u00f3n del pipeline de preprocesamiento",
    "from sklearn.preprocessing import StandardScaler",
    "from sklearn.impute import SimpleImputer",
    "from sklearn.pipeline import Pipeline",
    "from sklearn.compose import ColumnTransformer",
    "",
    "# Definir transformador para variables num\u00e9ricas",
    "numeric_features = ['protein', 'fat', 'sodium', 'fiber', 'carbo', 'sugars', 'potass', 'vitamins', 'shelf', 'weight', 'cups', 'rating']",
    "numeric_transformer = Pipeline(steps=[",
    "    ('imputer', SimpleImputer(strategy='median')),",
    "    ('scaler', StandardScaler())",
    "])",
    "# Definir transformador para variables categ\u00f3ricas",
    "categorical_features = ['name', 'mfr', 'type']",
    "categorical_transformer = Pipeline(steps=[",
    "    ('imputer', SimpleImputer(strategy='most_frequent')),",
    "    ('onehot', OneHotEncoder(handle_unknown='ignore', sparse_output=False))",
    "])",
    "",
    "# Crear el transformador combinado",
    "preprocessor = ColumnTransformer(",
    "    transformers=[",
    "        ('num', numeric_transformer, numeric_features),",
    "        ('cat', categorical_transformer, categorical_features),",
    "    ],",
    "    remainder='drop'",
    ")"
   ]
  },
  {
   "cell_type": "markdown",
   "metadata": {},
   "source": [
    "## Aplicaci\u00f3n del Pipeline y Transformaci\u00f3n de Datos",
    "",
    "Se ha aplicado el pipeline de preprocesamiento a los datos:",
    "",
    "- Dimensiones originales: 77 filas, 15 columnas",
    "- Dimensiones post-transformaci\u00f3n: 77 filas, 98 columnas"
   ]
  },
  {
   "cell_type": "code",
   "execution_count": 23,
   "metadata": {},
   "outputs": [],
   "source": [
    "# Vista previa de los datos",
    "   num__protein  num__fat  num__sodium  num__fiber  num__carbo  num__sugars  num__potass  num__vitamins  num__shelf  num__weight  num__cups  num__rating  cat__name_100% Bran  cat__name_100% Natural Bran  cat__name_All-Bran  cat__name_All-Bran with Extra Fiber  cat__name_Almond Delight  cat__name_Apple Cinnamon Cheerios  cat__name_Apple Jacks  cat__name_Basic 4  cat__name_Bran Chex  cat__name_Bran Flakes  cat__name_Cap'n'Crunch  cat__name_Cheerios  cat__name_Cinnamon Toast Crunch  cat__name_Clusters  cat__name_Cocoa Puffs  cat__name_Corn Chex  cat__name_Corn Flakes  cat__name_Corn Pops  cat__name_Count Chocula  cat__name_Cracklin' Oat Bran  cat__name_Cream of Wheat (Quick)  cat__name_Crispix  cat__name_Crispy Wheat & Raisins  cat__name_Double Chex  cat__name_Froot Loops  cat__name_Frosted Flakes  cat__name_Frosted Mini-Wheats  cat__name_Fruit & Fibre Dates; Walnuts; and Oats  cat__name_Fruitful Bran  cat__name_Fruity Pebbles  cat__name_Golden Crisp  cat__name_Golden Grahams  cat__name_Grape Nuts Flakes  cat__name_Grape-Nuts  cat__name_Great Grains Pecan  cat__name_Honey Graham Ohs  cat__name_Honey Nut Cheerios  cat__name_Honey-comb  cat__name_Just Right Crunchy  Nuggets  cat__name_Just Right Fruit & Nut  cat__name_Kix  cat__name_Life  cat__name_Lucky Charms  cat__name_Maypo  cat__name_Muesli Raisins; Dates; & Almonds  cat__name_Muesli Raisins; Peaches; & Pecans  cat__name_Mueslix Crispy Blend  cat__name_Multi-Grain Cheerios  cat__name_Nut&Honey Crunch  cat__name_Nutri-Grain Almond-Raisin  cat__name_Nutri-grain Wheat  cat__name_Oatmeal Raisin Crisp  cat__name_Post Nat. Raisin Bran  cat__name_Product 19  cat__name_Puffed Rice  cat__name_Puffed Wheat  cat__name_Quaker Oat Squares  cat__name_Quaker Oatmeal  cat__name_Raisin Bran  cat__name_Raisin Nut Bran  cat__name_Raisin Squares  cat__name_Rice Chex  cat__name_Rice Krispies  cat__name_Shredded Wheat  cat__name_Shredded Wheat 'n'Bran  cat__name_Shredded Wheat spoon size  cat__name_Smacks  cat__name_Special K  cat__name_Strawberry Fruit Wheats  cat__name_Total Corn Flakes  cat__name_Total Raisin Bran  cat__name_Total Whole Grain  cat__name_Triples  cat__name_Trix  cat__name_Wheat Chex  cat__name_Wheaties  cat__name_Wheaties Honey Gold  cat__mfr_A  cat__mfr_G  cat__mfr_K  cat__mfr_N  cat__mfr_P  cat__mfr_Q  cat__mfr_R  cat__type_C  cat__type_H",
    "0      1.337319 -0.012988    -0.356306    3.314439   -2.257639    -0.208807     2.596948       -0.14627    0.957813    -0.198067  -2.123870     1.844202                  1.0                          0.0                 0.0                                  0.0                       0.0                                0.0                    0.0                0.0                  0.0                    0.0                     0.0                 0.0                              0.0                 0.0                    0.0                  0.0                    0.0                  0.0                      0.0                           0.0                               0.0                0.0                               0.0                    0.0                    0.0                       0.0                            0.0                                               0.0                      0.0                       0.0                     0.0                       0.0                          0.0                   0.0                           0.0                         0.0                           0.0                   0.0                                    0.0                               0.0            0.0             0.0                     0.0              0.0                                         0.0                                          0.0                             0.0                             0.0                         0.0                                  0.0                          0.0                             0.0                              0.0                   0.0                    0.0                     0.0                           0.0                       0.0                    0.0                        0.0                       0.0                  0.0                      0.0                       0.0                               0.0                                  0.0               0.0                  0.0                                0.0                          0.0                          0.0                          0.0                0.0             0.0                   0.0                 0.0                            0.0         0.0         0.0         0.0         1.0         0.0         0.0         0.0          1.0          0.0",
    "1      0.417912  3.987349    -1.737087   -0.064172   -1.551936     0.244099     0.549573       -1.27255    0.957813    -0.198067   0.774053    -0.622110                  0.0                          1.0                 0.0                                  0.0                       0.0                                0.0                    0.0                0.0                  0.0                    0.0                     0.0                 0.0                              0.0                 0.0                    0.0                  0.0                    0.0                  0.0                      0.0                           0.0                               0.0                0.0                               0.0                    0.0                    0.0                       0.0                            0.0                                               0.0                      0.0                       0.0                     0.0                       0.0                          0.0                   0.0                           0.0                         0.0                           0.0                   0.0                                    0.0                               0.0            0.0             0.0                     0.0              0.0                                         0.0                                          0.0                             0.0                             0.0                         0.0                                  0.0                          0.0                             0.0                              0.0                   0.0                    0.0                     0.0                           0.0                       0.0                    0.0                        0.0                       0.0                  0.0                      0.0                       0.0                               0.0                                  0.0               0.0                  0.0                                0.0                          0.0                          0.0                          0.0                0.0             0.0                   0.0                 0.0                            0.0         0.0         0.0         0.0         0.0         0.0         1.0         0.0          1.0          0.0",
    "2      1.337319 -0.012988     1.204578    2.892113   -1.787170    -0.435260     3.161741       -0.14627    0.957813    -0.198067  -2.123870     1.200922                  0.0                          0.0                 1.0                                  0.0                       0.0                                0.0                    0.0                0.0                  0.0                    0.0                     0.0                 0.0                              0.0                 0.0                    0.0                  0.0                    0.0                  0.0                      0.0                           0.0                               0.0                0.0                               0.0                    0.0                    0.0                       0.0                            0.0                                               0.0                      0.0                       0.0                     0.0                       0.0                          0.0                   0.0                           0.0                         0.0                           0.0                   0.0                                    0.0                               0.0            0.0             0.0                     0.0              0.0                                         0.0                                          0.0                             0.0                             0.0                         0.0                                  0.0                          0.0                             0.0                              0.0                   0.0                    0.0                     0.0                           0.0                       0.0                    0.0                        0.0                       0.0                  0.0                      0.0                       0.0                               0.0                                  0.0               0.0                  0.0                                0.0                          0.0                          0.0                          0.0                0.0             0.0                   0.0                 0.0                            0.0         0.0         0.0         1.0         0.0         0.0         0.0         0.0          1.0          0.0",
    "3      1.337319 -1.013072    -0.236238    5.003745   -1.551936    -1.567525     3.302939       -0.14627    0.957813    -0.198067  -1.388576     3.657211                  0.0                          0.0                 0.0                                  1.0                       0.0                                0.0                    0.0                0.0                  0.0                    0.0                     0.0                 0.0                              0.0                 0.0                    0.0                  0.0                    0.0                  0.0                      0.0                           0.0                               0.0                0.0                               0.0                    0.0                    0.0                       0.0                            0.0                                               0.0                      0.0                       0.0                     0.0                       0.0                          0.0                   0.0                           0.0                         0.0                           0.0                   0.0                                    0.0                               0.0            0.0             0.0                     0.0              0.0                                         0.0                                          0.0                             0.0                             0.0                         0.0                                  0.0                          0.0                             0.0                              0.0                   0.0                    0.0                     0.0                           0.0                       0.0                    0.0                        0.0                       0.0                  0.0                      0.0                       0.0                               0.0                                  0.0               0.0                  0.0                                0.0                          0.0                          0.0                          0.0                0.0             0.0                   0.0                 0.0                            0.0         0.0         0.0         1.0         0.0         0.0         0.0         0.0          1.0          0.0",
    "4     -0.501495  0.987096     0.484170   -0.486498   -0.140530     0.244099    -1.370723       -0.14627    0.957813    -0.198067  -0.307262    -0.593365                  0.0                          0.0                 0.0                                  0.0                       1.0                                0.0                    0.0                0.0                  0.0                    0.0                     0.0                 0.0                              0.0                 0.0                    0.0                  0.0                    0.0                  0.0                      0.0                           0.0                               0.0                0.0                               0.0                    0.0                    0.0                       0.0                            0.0                                               0.0                      0.0                       0.0                     0.0                       0.0                          0.0                   0.0                           0.0                         0.0                           0.0                   0.0                                    0.0                               0.0            0.0             0.0                     0.0              0.0                                         0.0                                          0.0                             0.0                             0.0                         0.0                                  0.0                          0.0                             0.0                              0.0                   0.0                    0.0                     0.0                           0.0                       0.0                    0.0                        0.0                       0.0                  0.0                      0.0                       0.0                               0.0                                  0.0               0.0                  0.0                                0.0                          0.0                          0.0                          0.0                0.0             0.0                   0.0                 0.0                            0.0         0.0         0.0         0.0         0.0         0.0         0.0         1.0          1.0          0.0"
   ]
  },
  {
   "cell_type": "code",
   "execution_count": 24,
   "metadata": {},
   "outputs": [],
   "source": [
    "# Aplicar el pipeline de preprocesamiento",
    "X = df.drop(columns=[target])",
    "y = df[target].copy()",
    "",
    "# Transformar los datos",
    "X_transformed = preprocessor.fit_transform(X)",
    "",
    "# Crear DataFrame con nombres de caracter\u00edsticas",
    "try:",
    "    feature_names = preprocessor.get_feature_names_out()",
    "except:",
    "    feature_names = [f'feature_{i}' for i in range(X_transformed.shape[1])]",
    "",
    "X_df = pd.DataFrame(X_transformed, index=X.index, columns=feature_names)",
    "X_df.head()"
   ]
  },
  {
   "cell_type": "markdown",
   "metadata": {},
   "source": [
    "## Inicio del Proceso de Modelado",
    "",
    "Se inicia el proceso de selecci\u00f3n y entrenamiento del modelo para un problema de **regression**.",
    "",
    "Datos de entrada:",
    "- N\u00famero de instancias: 77",
    "- N\u00famero de caracter\u00edsticas: 98"
   ]
  },
  {
   "cell_type": "code",
   "execution_count": 26,
   "metadata": {},
   "outputs": [],
   "source": [
    "# Detecci\u00f3n del tipo de problema",
    "problem_type = 'regression'  # Detectado autom\u00e1ticamente",
    "print(f'Tipo de problema: regression')",
    "print(f'Dimensiones de X: (77, 98)')"
   ]
  },
  {
   "cell_type": "markdown",
   "metadata": {},
   "source": [
    "## Selecci\u00f3n Autom\u00e1tica del Modelo",
    "",
    "Se ha seleccionado autom\u00e1ticamente un modelo de tipo **RandomForestRegressor** basado en las caracter\u00edsticas del dataset.",
    "",
    "### Criterios de selecci\u00f3n:",
    "- **Tipo de problema**: regression",
    "- **N\u00famero de muestras**: 77",
    "- **N\u00famero de caracter\u00edsticas**: 98",
    "- **Criterio aplicado**: Dataset peque\u00f1o o muchas caracter\u00edsticas \u2192 RandomForest"
   ]
  },
  {
   "cell_type": "code",
   "execution_count": 28,
   "metadata": {},
   "outputs": [],
   "source": [
    "from sklearn.ensemble import RandomForestRegressor",
    "model = RandomForestRegressor(",
    "    n_estimators=100,",
    "    max_depth=None,",
    "    min_samples_split=2,",
    "    random_state=42",
    ")"
   ]
  },
  {
   "cell_type": "markdown",
   "metadata": {},
   "source": [
    "## Validaci\u00f3n de Entradas del Modelo",
    "",
    "Se ha verificado que los datos cumplen con los requisitos para el entrenamiento del modelo:",
    "",
    "- \u2705 No hay valores faltantes en las caracter\u00edsticas",
    "- \u2705 No hay valores faltantes en la variable objetivo",
    "- \u2705 Hay 98 caracter\u00edsticas disponibles",
    "- \u2705 La variable objetivo es num\u00e9rica"
   ]
  },
  {
   "cell_type": "code",
   "execution_count": 30,
   "metadata": {},
   "outputs": [],
   "source": [
    "# Validaci\u00f3n de inputs para el modelo",
    "# Verificar valores faltantes",
    "print(f'Valores faltantes en X: {X.isnull().any().any()}')",
    "print(f'Valores faltantes en y: {y.isnull().any()}')",
    "print(f'N\u00famero de caracter\u00edsticas: {X.shape[1]}')",
    "# Validaci\u00f3n espec\u00edfica para problema de regression",
    "print(f'Tipo de dato del objetivo: {y.dtype}')"
   ]
  },
  {
   "cell_type": "markdown",
   "metadata": {},
   "source": [
    "## Divisi\u00f3n en Conjuntos de Entrenamiento y Prueba",
    "",
    "Los datos se han dividido en conjuntos de entrenamiento (80%) y prueba (20%):",
    "",
    "- **Conjunto de entrenamiento**: 61 muestras",
    "- **Conjunto de prueba**: 16 muestras",
    "",
    ""
   ]
  },
  {
   "cell_type": "code",
   "execution_count": 32,
   "metadata": {},
   "outputs": [],
   "source": [
    "# Divisi\u00f3n en conjuntos de entrenamiento y prueba",
    "from sklearn.model_selection import train_test_split",
    "X_train, X_test, y_train, y_test = train_test_split(",
    "    X, y, test_size=0.2, random_state=42,",
    ")",
    "print(f'X_train: {X_train.shape}, X_test: {X_test.shape}')"
   ]
  },
  {
   "cell_type": "markdown",
   "metadata": {},
   "source": [
    "## Entrenamiento del Modelo",
    "",
    "Se ha entrenado el modelo RandomForestRegressor con los datos de entrenamiento."
   ]
  },
  {
   "cell_type": "code",
   "execution_count": 34,
   "metadata": {},
   "outputs": [],
   "source": [
    "# Entrenamiento del modelo",
    "model.fit(X_train, y_train)",
    "print('Modelo entrenado exitosamente.')"
   ]
  },
  {
   "cell_type": "markdown",
   "metadata": {},
   "source": [
    "## Evaluaci\u00f3n del Modelo",
    "",
    "Se ha evaluado el rendimiento del modelo utilizando el conjunto de prueba.",
    "",
    "### M\u00e9tricas de Rendimiento:",
    "- **r2**: 0.6108",
    "- **mse**: 116.1625",
    "- **rmse**: 10.7779",
    "- **cv_r2_mean**: 0.2223",
    "- **cv_r2_std**: 0.3856"
   ]
  },
  {
   "cell_type": "code",
   "execution_count": 36,
   "metadata": {},
   "outputs": [],
   "source": [
    "# Evaluaci\u00f3n del modelo de regresi\u00f3n",
    "from sklearn.metrics import r2_score, mean_squared_error",
    "import numpy as np",
    "",
    "# Predicciones",
    "y_pred = model.predict(X_test)",
    "",
    "# M\u00e9tricas principales",
    "r2 = r2_score(y_test, y_pred)",
    "mse = mean_squared_error(y_test, y_pred)",
    "rmse = np.sqrt(mse)",
    "",
    "print(f'R\u00b2: {r2:.4f}')",
    "print(f'MSE: {mse:.4f}')",
    "print(f'RMSE: {rmse:.4f}')"
   ]
  },
  {
   "cell_type": "markdown",
   "metadata": {},
   "source": [
    "## Validaci\u00f3n Cruzada",
    "",
    "Se ha realizado validaci\u00f3n cruzada (5-fold) para obtener una estimaci\u00f3n m\u00e1s robusta del rendimiento del modelo.",
    "",
    "### M\u00e9tricas de Validaci\u00f3n Cruzada:",
    "- **cv_r2_mean**: 0.2223",
    "- **cv_r2_std**: 0.3856"
   ]
  },
  {
   "cell_type": "code",
   "execution_count": 38,
   "metadata": {},
   "outputs": [],
   "source": [
    "# Validaci\u00f3n cruzada",
    "from sklearn.model_selection import cross_val_score",
    "cv_scores = cross_val_score(model, X, y, cv=5, scoring=\"r2\")",
    "print(f'Scores de validaci\u00f3n cruzada: {cv_scores}')",
    "print(f'Media: {cv_scores.mean():.4f}')",
    "print(f'Desviaci\u00f3n est\u00e1ndar: {cv_scores.std():.4f}')"
   ]
  },
  {
   "cell_type": "markdown",
   "metadata": {},
   "source": [
    "## Modelo Generado Exitosamente",
    "",
    "Se ha entrenado exitosamente un modelo de tipo **RandomForestRegressor**.",
    "",
    "### M\u00e9tricas de Rendimiento:",
    "- **r2**: 0.6108",
    "- **mse**: 116.1625",
    "- **rmse**: 10.7779",
    "- **cv_r2_mean**: 0.2223",
    "- **cv_r2_std**: 0.3856"
   ]
  },
  {
   "cell_type": "markdown",
   "metadata": {},
   "source": [
    "## Validaci\u00f3n Final del Workflow",
    "",
    "Se ha realizado una validaci\u00f3n integral del workflow y se ha determinado que el proceso cumple con todos los requisitos de calidad:",
    "",
    "\u2705 **Integridad de datos**: Los datos han sido correctamente procesados y validados.",
    "\u2705 **Rendimiento del modelo**: El modelo cumple con los umbrales m\u00ednimos de rendimiento establecidos.",
    "\u2705 **Preparaci\u00f3n para despliegue**: El modelo est\u00e1 listo para ser desplegado."
   ]
  },
  {
   "cell_type": "code",
   "execution_count": 41,
   "metadata": {},
   "outputs": [],
   "source": [
    "# Validaci\u00f3n final del workflow",
    "print('Validaci\u00f3n de integridad de datos: OK')",
    "print('Validaci\u00f3n de rendimiento del modelo: OK')",
    "print('Validaci\u00f3n de preparaci\u00f3n para despliegue: OK')",
    "print('\u00a1Workflow completado exitosamente!')"
   ]
  },
  {
   "cell_type": "markdown",
   "metadata": {},
   "source": [
    "## Cambio de Etapa: DEPLOYMENT",
    "",
    "('El workflow ha avanzado de la etapa **DATA_LOADING** a la etapa **DEPLOYMENT**.\\n\\n', 'En esta etapa final, el modelo validado se guarda y se prepara para su uso en producci\u00f3n.')"
   ]
  },
  {
   "cell_type": "markdown",
   "metadata": {},
   "source": [
    "## Despliegue del Modelo",
    "",
    "El modelo entrenado ha sido guardado en **sessions\\2f5e88fb-376e-4fec-b934-6080ae937ec6\\2f5e88fb-376e-4fec-b934-6080ae937ec6_models\\model_20250227_215052.joblib**.",
    "",
    "### Resumen Final de M\u00e9tricas:",
    "- **r2**: 0.6108",
    "- **mse**: 116.1625",
    "- **rmse**: 10.7779",
    "- **cv_r2_mean**: 0.2223",
    "- **cv_r2_std**: 0.3856",
    ""
   ]
  },
  {
   "cell_type": "code",
   "execution_count": 44,
   "metadata": {},
   "outputs": [],
   "source": [
    "# Guardar el modelo entrenado",
    "import joblib",
    "joblib.dump(model, 'sessions\\2f5e88fb-376e-4fec-b934-6080ae937ec6\\2f5e88fb-376e-4fec-b934-6080ae937ec6_models\\model_20250227_215052.joblib')",
    "print(f'Modelo guardado en {model_path}')"
   ]
  }
 ],
 "metadata": {
  "kernelspec": {
   "display_name": "Python 3",
   "language": "python",
   "name": "python3"
  },
  "language_info": {
   "codemirror_mode": {
    "name": "ipython",
    "version": 3
   },
   "file_extension": ".py",
   "mimetype": "text/x-python",
   "name": "python",
   "nbconvert_exporter": "python",
   "pygments_lexer": "ipython3",
   "version": "3.8.0"
  }
 },
 "nbformat": 4,
 "nbformat_minor": 5
}